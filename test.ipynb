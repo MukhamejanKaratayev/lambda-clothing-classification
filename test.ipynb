{
 "cells": [
  {
   "cell_type": "code",
   "execution_count": 2,
   "metadata": {},
   "outputs": [],
   "source": [
    "import requests"
   ]
  },
  {
   "cell_type": "code",
   "execution_count": 17,
   "metadata": {},
   "outputs": [
    {
     "name": "stdout",
     "output_type": "stream",
     "text": [
      "<Response [200]>\n"
     ]
    }
   ],
   "source": [
    "url = 'https://6jc01mymm0.execute-api.us-east-1.amazonaws.com/deployTest/predict'\n",
    "\n",
    "data = {\n",
    "    'url': 'https://thursdayboots.com/cdn/shop/products/1024x1024-Men-Explorer-BlackMatte-032123-2.jpg?v=1680279338'\n",
    "}\n",
    "\n",
    "result = requests.post(url, json=data)\n",
    "print(result)"
   ]
  },
  {
   "cell_type": "code",
   "execution_count": 18,
   "metadata": {},
   "outputs": [
    {
     "name": "stdout",
     "output_type": "stream",
     "text": [
      "{'dress': -0.7391707897186279, 'hat': -3.5020573139190674, 'longsleeve': -3.2560317516326904, 'outwear': 0.7441994547843933, 'pants': -3.72888445854187, 'shirt': 0.8587122559547424, 'shoes': 4.901090145111084, 'shorts': -1.107674479484558, 'skirt': -3.1846768856048584, 't-shirt': -0.8138778209686279}\n"
     ]
    }
   ],
   "source": [
    "print(result.json())\n"
   ]
  },
  {
   "cell_type": "code",
   "execution_count": 9,
   "metadata": {},
   "outputs": [
    {
     "data": {
      "text/plain": [
       "150.0"
      ]
     },
     "execution_count": 9,
     "metadata": {},
     "output_type": "execute_result"
    }
   ],
   "source": [
    "0.0000000500 * 2000 * 1000000"
   ]
  },
  {
   "cell_type": "code",
   "execution_count": null,
   "metadata": {},
   "outputs": [],
   "source": []
  }
 ],
 "metadata": {
  "kernelspec": {
   "display_name": "base",
   "language": "python",
   "name": "python3"
  },
  "language_info": {
   "codemirror_mode": {
    "name": "ipython",
    "version": 3
   },
   "file_extension": ".py",
   "mimetype": "text/x-python",
   "name": "python",
   "nbconvert_exporter": "python",
   "pygments_lexer": "ipython3",
   "version": "3.10.12"
  },
  "orig_nbformat": 4
 },
 "nbformat": 4,
 "nbformat_minor": 2
}
